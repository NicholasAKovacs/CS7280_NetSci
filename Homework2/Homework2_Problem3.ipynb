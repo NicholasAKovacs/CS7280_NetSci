{
 "cells": [
  {
   "cell_type": "markdown",
   "metadata": {},
   "source": [
    "1) Write a function (ideally in Python – but you can also use any other language) that generates an undirected growing network based on the K Nearest-Neighbors (KNN) rule, as follows:\n",
    "\n",
    "–Start with a clique of n0 nodes that are randomly located in the Cartesian square S=[0,1]×[0,1].\n",
    "\n",
    "–Grow the network by adding one node in each iteration.  The new node must be located at a randomly chosen location within S,  and it should be connected to its K nearest neighbors.\n",
    "\n",
    "Use G=KNN model (n0, K, N) as the interface of your function, where N is the number of iterations and G is the final network."
   ]
  },
  {
   "cell_type": "code",
   "execution_count": 235,
   "metadata": {},
   "outputs": [],
   "source": [
    "import networkx as nx\n",
    "import random\n",
    "import numpy as np\n",
    "import pandas as pd\n",
    "import scipy.stats as stats\n",
    "import matplotlib.pyplot as plt\n",
    "from sklearn.neighbors import NearestNeighbors\n",
    "%matplotlib inline"
   ]
  },
  {
   "cell_type": "code",
   "execution_count": 449,
   "metadata": {},
   "outputs": [],
   "source": [
    "def make_xy_clique_add_nodes_iter(N, n0, K):\n",
    "    \"\"\"\n",
    "    This function makes a clique of n0 nodes, iteratively adds N number of nodes 1 at a time, and connects them to their\n",
    "    K-nearest neighbors. All nodes are added randomly in the xy-plane ranging from 0 to 1.\n",
    "    \"\"\"\n",
    "    \n",
    "    # Make the clique of n0 nodes\n",
    "    graph = nx.complete_graph(n0)\n",
    "    num_nodes = nx.number_of_nodes(graph)\n",
    "    for node_num in range(num_nodes):\n",
    "        graph.node[node_num]['x'] = np.random.random_sample()\n",
    "        graph.node[node_num]['y'] = np.random.random_sample()\n",
    "        node_num +=1\n",
    "        \n",
    "    # Initialize a list of xy coordinates of the nodes, this will be updated as new nodes are added\n",
    "    x_coord = list(nx.get_node_attributes(graph,'x').values())\n",
    "    y_coord = list(nx.get_node_attributes(graph,'y').values())\n",
    "    xy_coords = []\n",
    "    for x,y in zip(x_coord, y_coord): \n",
    "        xy_coords.append([x, y])\n",
    "    \n",
    "    # Adds the new nodes 1 at a time, adds thie coords to xy_coords list, and connects them to their K-nearest neighbors\n",
    "    # If K is larg\n",
    "    new_node_num = n0 + N\n",
    "    for node_num in range(n0, new_node_num):\n",
    "        graph.add_node(node_num)\n",
    "        graph.node[node_num]['x'] = np.random.random_sample()\n",
    "        graph.node[node_num]['y'] = np.random.random_sample()\n",
    "        xy_coords.append([graph.node[node_num]['x'], graph.node[node_num]['y']])\n",
    "        if node_num < K: \n",
    "            num_nbrs = node_num    \n",
    "        else: \n",
    "            num_nbrs = K\n",
    "        nbrs = NearestNeighbors(n_neighbors=num_nbrs+1).fit(xy_coords)\n",
    "        distances, indices = nbrs.kneighbors(xy_coords)\n",
    "        for nbr in range(1, num_nbrs+1):\n",
    "            nrst_nbr = indices[node_num][nbr]\n",
    "            graph.add_edge(node_num, nrst_nbr)\n",
    "    \n",
    "    return graph"
   ]
  },
  {
   "cell_type": "markdown",
   "metadata": {},
   "source": [
    "2) Using your KNN model function, construct networks with N=10000, n0=4 and K=4. Does this model generate scale-free networks?  Does it generate small-world networks?  Justify your answer with the appropriate graphs."
   ]
  },
  {
   "cell_type": "code",
   "execution_count": 450,
   "metadata": {},
   "outputs": [],
   "source": [
    "subin = make_xy_clique_add_nodes_iter(3,2,4)"
   ]
  },
  {
   "cell_type": "code",
   "execution_count": 451,
   "metadata": {
    "collapsed": true
   },
   "outputs": [],
   "source": [
    "x_coord = list(nx.get_node_attributes(subin,'x').values())\n",
    "y_coord = list(nx.get_node_attributes(subin,'y').values())"
   ]
  },
  {
   "cell_type": "code",
   "execution_count": 452,
   "metadata": {},
   "outputs": [],
   "source": [
    "xy_coords = []\n",
    "for x,y in zip(x_coord, y_coord): xy_coords.append([x, y])"
   ]
  },
  {
   "cell_type": "code",
   "execution_count": 453,
   "metadata": {},
   "outputs": [
    {
     "data": {
      "image/png": "[encoded data removed]",
      "text/plain": [
       "<matplotlib.figure.Figure at 0x1661b6c0dd8>"
      ]
     },
     "metadata": {},
     "output_type": "display_data"
    }
   ],
   "source": [
    "nx.draw_networkx(subin, xy_coords)"
   ]
  },
  {
   "cell_type": "code",
   "execution_count": 384,
   "metadata": {
    "collapsed": true
   },
   "outputs": [],
   "source": [
    "nbrs = NearestNeighbors(n_neighbors=4).fit(xy_coords)"
   ]
  },
  {
   "cell_type": "code",
   "execution_count": 385,
   "metadata": {
    "collapsed": true
   },
   "outputs": [],
   "source": [
    "distances, indices = nbrs.kneighbors(xy_coords)"
   ]
  },
  {
   "cell_type": "code",
   "execution_count": 386,
   "metadata": {},
   "outputs": [
    {
     "data": {
      "text/plain": [
       "array([[ 0,  9, 11, 13],\n",
       "       [ 1,  4,  8, 10],\n",
       "       [ 2,  7,  8,  3],\n",
       "       [ 3, 12, 13,  2],\n",
       "       [ 4,  1,  8, 10],\n",
       "       [ 5,  9,  6, 11],\n",
       "       [ 6,  9,  5, 13],\n",
       "       [ 7,  8,  2,  1],\n",
       "       [ 8,  7,  1, 10],\n",
       "       [ 9,  0, 11, 13],\n",
       "       [10,  6,  5, 13],\n",
       "       [11,  0,  9,  5],\n",
       "       [12,  3, 13,  0],\n",
       "       [13,  9,  0,  6]], dtype=int64)"
      ]
     },
     "execution_count": 386,
     "metadata": {},
     "output_type": "execute_result"
    }
   ],
   "source": [
    "indices"
   ]
  },
  {
   "cell_type": "code",
   "execution_count": 288,
   "metadata": {},
   "outputs": [
    {
     "data": {
      "text/plain": [
       "array([[ 0.        ,  0.1729035 ],\n",
       "       [ 0.        ,  0.09066888],\n",
       "       [ 0.        ,  0.22578937],\n",
       "       [ 0.        ,  0.30127249],\n",
       "       [ 0.        ,  0.01251242],\n",
       "       [ 0.        ,  0.01251242],\n",
       "       [ 0.        ,  0.22578937],\n",
       "       [ 0.        ,  0.1729035 ],\n",
       "       [ 0.        ,  0.30768277],\n",
       "       [ 0.        ,  0.2691772 ],\n",
       "       [ 0.        ,  0.09066888],\n",
       "       [ 0.        ,  0.15022673]])"
      ]
     },
     "execution_count": 288,
     "metadata": {},
     "output_type": "execute_result"
    }
   ],
   "source": [
    "distances"
   ]
  },
  {
   "cell_type": "code",
   "execution_count": null,
   "metadata": {
    "collapsed": true
   },
   "outputs": [],
   "source": []
  },
  {
   "cell_type": "code",
   "execution_count": 234,
   "metadata": {},
   "outputs": [
    {
     "data": {
      "text/plain": [
       "{0: {'x': 0.35111998058721605, 'y': 0.5983731439055976},\n",
       " 1: {'x': 0.8273335439111225, 'y': 0.5341071605596669},\n",
       " 2: {'x': 0.4964405094932087, 'y': 0.39016785768280837},\n",
       " 3: {'x': 0.4387144553950242, 'y': 0.3512889170815998},\n",
       " 4: {'x': 0.6982300760318367, 'y': 0.44546311195088195},\n",
       " 5: {'x': 0.2116595213791681, 'y': 0.5143363438281983},\n",
       " 6: {'x': 0.3082594883796508, 'y': 0.19652741892704229},\n",
       " 7: {'x': 0.042431186824652856, 'y': 0.9539586957654326},\n",
       " 8: {'x': 0.7684445099440728, 'y': 0.18450832813866702},\n",
       " 9: {'x': 0.4529524864300055, 'y': 0.029067101467806333},\n",
       " 10: {'x': 0.3920370131259898, 'y': 0.8385090588521024},\n",
       " 11: {'x': 0.3258702667198209, 'y': 0.9121132252308383}}"
      ]
     },
     "execution_count": 234,
     "metadata": {},
     "output_type": "execute_result"
    }
   ],
   "source": [
    "subin.node"
   ]
  },
  {
   "cell_type": "code",
   "execution_count": 230,
   "metadata": {},
   "outputs": [
    {
     "data": {
      "text/plain": [
       "[(0.16558974771002366, 0.2463593107114932),\n",
       " (0.32377437844510315, 0.8488708717956476),\n",
       " (0.7853791057573543, 0.5885424740898371),\n",
       " (0.645610453736517, 0.9156681937936846),\n",
       " (0.8107113389268236, 0.034668724431791476),\n",
       " (0.8054554502632546, 0.023313712978112133),\n",
       " (0.5627222169037119, 0.6260224543704962),\n",
       " (0.09190082756141504, 0.08994458935656924),\n",
       " (0.09948277782846782, 0.5468564877240771),\n",
       " (0.9720895527609776, 0.3946466930729724),\n",
       " (0.23331176143966026, 0.8549832772237355),\n",
       " (0.1903773783580448, 0.9989440632904119)]"
      ]
     },
     "execution_count": 230,
     "metadata": {},
     "output_type": "execute_result"
    }
   ],
   "source": [
    "list(zip(x_coord,y_coord))"
   ]
  },
  {
   "cell_type": "code",
   "execution_count": 193,
   "metadata": {},
   "outputs": [
    {
     "data": {
      "text/plain": [
       "{0: {}, 1: {}, 2: {}, 3: {}, 4: {}}"
      ]
     },
     "execution_count": 193,
     "metadata": {},
     "output_type": "execute_result"
    }
   ],
   "source": [
    "test.node"
   ]
  },
  {
   "cell_type": "code",
   "execution_count": 130,
   "metadata": {
    "collapsed": true
   },
   "outputs": [],
   "source": [
    "def add_random_xy_coords_to_graph(graph):\n",
    "    num_nodes = nx.number_of_nodes(graph)\n",
    "    for node_num in range(num_nodes):\n",
    "        graph.node[node_num]['x'] = np.random.random_sample()\n",
    "        graph.node[node_num]['y'] = np.random.random_sample()\n",
    "        node_num +=1"
   ]
  },
  {
   "cell_type": "code",
   "execution_count": null,
   "metadata": {
    "collapsed": true
   },
   "outputs": [],
   "source": [
    "def add_nodes_to_KNN(graph, num_new_nodes):\n",
    "    while new_node_num in range(num_new_nodes):\n",
    "        graph.add_node(1)\n",
    "    \n",
    "    "
   ]
  },
  {
   "cell_type": "code",
   "execution_count": 170,
   "metadata": {
    "collapsed": true
   },
   "outputs": [],
   "source": [
    "def make_graph(name):\n",
    "    name = nx.Graph()\n",
    "    name.add_node(1)\n",
    "    return name"
   ]
  },
  {
   "cell_type": "code",
   "execution_count": 176,
   "metadata": {},
   "outputs": [],
   "source": [
    "that = make_clique_with_random_xy(5)"
   ]
  },
  {
   "cell_type": "code",
   "execution_count": 177,
   "metadata": {},
   "outputs": [
    {
     "data": {
      "text/plain": [
       "{0: {'x': 0.4307270753886475, 'y': 0.7003919555095213},\n",
       " 1: {'x': 0.5421093650428127, 'y': 0.5212835671435303},\n",
       " 2: {'x': 0.5416318595253203, 'y': 0.4548315715482548},\n",
       " 3: {'x': 0.9508612873132484, 'y': 0.03362512541069196},\n",
       " 4: {'x': 0.2872954073899425, 'y': 0.11146367285279468}}"
      ]
     },
     "execution_count": 177,
     "metadata": {},
     "output_type": "execute_result"
    }
   ],
   "source": [
    "that.node"
   ]
  },
  {
   "cell_type": "code",
   "execution_count": null,
   "metadata": {
    "collapsed": true
   },
   "outputs": [],
   "source": []
  },
  {
   "cell_type": "code",
   "execution_count": 164,
   "metadata": {},
   "outputs": [],
   "source": [
    "graph = make_clique_with_random_xy(5)"
   ]
  },
  {
   "cell_type": "code",
   "execution_count": 165,
   "metadata": {},
   "outputs": [
    {
     "ename": "AttributeError",
     "evalue": "'NoneType' object has no attribute 'node'",
     "output_type": "error",
     "traceback": [
      "\u001b[1;31m---------------------------------------------------------------------------\u001b[0m",
      "\u001b[1;31mAttributeError\u001b[0m                            Traceback (most recent call last)",
      "\u001b[1;32m<ipython-input-165-fb53364cf435>\u001b[0m in \u001b[0;36m<module>\u001b[1;34m()\u001b[0m\n\u001b[1;32m----> 1\u001b[1;33m \u001b[0mgraph\u001b[0m\u001b[1;33m.\u001b[0m\u001b[0mnode\u001b[0m\u001b[1;33m\u001b[0m\u001b[0m\n\u001b[0m",
      "\u001b[1;31mAttributeError\u001b[0m: 'NoneType' object has no attribute 'node'"
     ]
    }
   ],
   "source": [
    "graph.node"
   ]
  },
  {
   "cell_type": "code",
   "execution_count": 138,
   "metadata": {},
   "outputs": [
    {
     "data": {
      "text/plain": [
       "{0: {'x': 0.27717088558579395, 'y': 0.43098717270618503},\n",
       " 1: {'x': 0.4893710244239522, 'y': 0.17499545526446425},\n",
       " 2: {'x': 0.9818153589481512, 'y': 0.5147395898122684},\n",
       " 3: {'x': 0.7694077380882501, 'y': 0.8736222307036045},\n",
       " 4: {'x': 0.4584737428844764, 'y': 0.4771793963259664}}"
      ]
     },
     "execution_count": 138,
     "metadata": {},
     "output_type": "execute_result"
    }
   ],
   "source": [
    "test.node"
   ]
  },
  {
   "cell_type": "code",
   "execution_count": 142,
   "metadata": {},
   "outputs": [],
   "source": [
    "test.add_node(5)"
   ]
  },
  {
   "cell_type": "code",
   "execution_count": 143,
   "metadata": {},
   "outputs": [
    {
     "data": {
      "text/plain": [
       "{0: {'x': 0.27717088558579395, 'y': 0.43098717270618503},\n",
       " 1: {'x': 0.4893710244239522, 'y': 0.17499545526446425},\n",
       " 2: {'x': 0.9818153589481512, 'y': 0.5147395898122684},\n",
       " 3: {'x': 0.7694077380882501, 'y': 0.8736222307036045},\n",
       " 4: {'x': 0.4584737428844764, 'y': 0.4771793963259664},\n",
       " 5: {}}"
      ]
     },
     "execution_count": 143,
     "metadata": {},
     "output_type": "execute_result"
    }
   ],
   "source": [
    "test.node"
   ]
  },
  {
   "cell_type": "code",
   "execution_count": null,
   "metadata": {
    "collapsed": true
   },
   "outputs": [],
   "source": []
  },
  {
   "cell_type": "code",
   "execution_count": 53,
   "metadata": {
    "collapsed": true
   },
   "outputs": [],
   "source": [
    "G=nx.Graph()"
   ]
  },
  {
   "cell_type": "code",
   "execution_count": 54,
   "metadata": {},
   "outputs": [],
   "source": [
    "generate_random_clique(G, 50)"
   ]
  },
  {
   "cell_type": "code",
   "execution_count": 55,
   "metadata": {},
   "outputs": [
    {
     "data": {
      "image/png": "[encoded data removed]",
      "text/plain": [
       "<matplotlib.figure.Figure at 0x16619fc1630>"
      ]
     },
     "metadata": {},
     "output_type": "display_data"
    }
   ],
   "source": [
    "nx.draw_networkx(G)"
   ]
  },
  {
   "cell_type": "code",
   "execution_count": 69,
   "metadata": {},
   "outputs": [
    {
     "data": {
      "text/plain": [
       "0.9316607713683318"
      ]
     },
     "execution_count": 69,
     "metadata": {},
     "output_type": "execute_result"
    }
   ],
   "source": [
    "G.node[1]['x']"
   ]
  },
  {
   "cell_type": "code",
   "execution_count": 79,
   "metadata": {},
   "outputs": [
    {
     "data": {
      "text/plain": [
       "0.9316607713683318"
      ]
     },
     "execution_count": 79,
     "metadata": {},
     "output_type": "execute_result"
    }
   ],
   "source": [
    "nx.get_node_attributes(G, 'x')[1]"
   ]
  },
  {
   "cell_type": "code",
   "execution_count": 74,
   "metadata": {
    "collapsed": true
   },
   "outputs": [],
   "source": [
    "x_coord = (x for x in G if G.node[n]['x'])"
   ]
  },
  {
   "cell_type": "code",
   "execution_count": 75,
   "metadata": {},
   "outputs": [
    {
     "data": {
      "text/plain": [
       "<generator object <genexpr> at 0x000001661B224E08>"
      ]
     },
     "execution_count": 75,
     "metadata": {},
     "output_type": "execute_result"
    }
   ],
   "source": [
    "x_coord"
   ]
  },
  {
   "cell_type": "code",
   "execution_count": 84,
   "metadata": {
    "collapsed": true
   },
   "outputs": [],
   "source": [
    "clique=nx.complete_graph(0)"
   ]
  },
  {
   "cell_type": "code",
   "execution_count": 85,
   "metadata": {},
   "outputs": [
    {
     "data": {
      "image/png": "[encoded data removed]",
      "text/plain": [
       "<matplotlib.figure.Figure at 0x16619cbae10>"
      ]
     },
     "metadata": {},
     "output_type": "display_data"
    }
   ],
   "source": [
    "nx.draw_networkx(clique)"
   ]
  },
  {
   "cell_type": "code",
   "execution_count": null,
   "metadata": {
    "collapsed": true
   },
   "outputs": [],
   "source": []
  },
  {
   "cell_type": "code",
   "execution_count": null,
   "metadata": {
    "collapsed": true
   },
   "outputs": [],
   "source": [
    "def add_node_in_square_randomly (num_nodes):\n",
    "    "
   ]
  }
 ],
 "metadata": {
  "kernelspec": {
   "display_name": "Python 2",
   "language": "python",
   "name": "python2"
  },
  "language_info": {
   "codemirror_mode": {
    "name": "ipython",
    "version": 2
   },
   "file_extension": ".py",
   "mimetype": "text/x-python",
   "name": "python",
   "nbconvert_exporter": "python",
   "pygments_lexer": "ipython2",
   "version": "2.7.13"
  }
 },
 "nbformat": 4,
 "nbformat_minor": 2
}
