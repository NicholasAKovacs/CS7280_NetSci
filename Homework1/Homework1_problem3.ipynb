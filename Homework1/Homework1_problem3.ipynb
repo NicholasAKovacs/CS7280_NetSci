{
 "cells": [
  {
   "cell_type": "markdown",
   "metadata": {},
   "source": [
    "A) The network analyzed here is a Protein-Protein Interaction (PPI) network from C. elegans. The dataset comes from Simonis et al., 2009. This dataset was obtained by a high-throughput yeast two-hybrid (Y2H) screening system. Each node in the dataset is a protein and the edges are interactions obtained from the experiment. The network is undirected and is unweighted. This network is only 3-4% complete, Y2H screening is not very sensitive and would need to be run multilpe times in order to accurately uncover PPI of the organism; however even then, some PPI would still not be detectable"
   ]
  },
  {
   "cell_type": "code",
   "execution_count": 1,
   "metadata": {
    "collapsed": true
   },
   "outputs": [],
   "source": [
    "import networkx as nx\n",
    "import pandas as pd\n",
    "import scipy.stats as stats\n",
    "import matplotlib.pyplot as plt\n",
    "%matplotlib inline"
   ]
  },
  {
   "cell_type": "code",
   "execution_count": 2,
   "metadata": {
    "collapsed": true
   },
   "outputs": [],
   "source": [
    "dataset = pd.read_csv('wi8.txt', sep='\\t')"
   ]
  },
  {
   "cell_type": "code",
   "execution_count": 3,
   "metadata": {
    "collapsed": true
   },
   "outputs": [],
   "source": [
    "dataset = dataset.iloc[:,[0,1]]"
   ]
  },
  {
   "cell_type": "code",
   "execution_count": 4,
   "metadata": {},
   "outputs": [
    {
     "data": {
      "text/html": [
       "<div>\n",
       "<style>\n",
       "    .dataframe thead tr:only-child th {\n",
       "        text-align: right;\n",
       "    }\n",
       "\n",
       "    .dataframe thead th {\n",
       "        text-align: left;\n",
       "    }\n",
       "\n",
       "    .dataframe tbody tr th {\n",
       "        vertical-align: top;\n",
       "    }\n",
       "</style>\n",
       "<table border=\"1\" class=\"dataframe\">\n",
       "  <thead>\n",
       "    <tr style=\"text-align: right;\">\n",
       "      <th></th>\n",
       "      <th>#IDA</th>\n",
       "      <th>IDB</th>\n",
       "    </tr>\n",
       "  </thead>\n",
       "  <tbody>\n",
       "    <tr>\n",
       "      <th>0</th>\n",
       "      <td>AC3.10</td>\n",
       "      <td>AC3.3</td>\n",
       "    </tr>\n",
       "    <tr>\n",
       "      <th>1</th>\n",
       "      <td>AC3.3</td>\n",
       "      <td>C03A7.14</td>\n",
       "    </tr>\n",
       "    <tr>\n",
       "      <th>2</th>\n",
       "      <td>AC3.3</td>\n",
       "      <td>C03A7.4</td>\n",
       "    </tr>\n",
       "    <tr>\n",
       "      <th>3</th>\n",
       "      <td>AC3.3</td>\n",
       "      <td>C05D2.1</td>\n",
       "    </tr>\n",
       "    <tr>\n",
       "      <th>4</th>\n",
       "      <td>AC3.3</td>\n",
       "      <td>C37C3.6</td>\n",
       "    </tr>\n",
       "  </tbody>\n",
       "</table>\n",
       "</div>"
      ],
      "text/plain": [
       "     #IDA       IDB\n",
       "0  AC3.10     AC3.3\n",
       "1   AC3.3  C03A7.14\n",
       "2   AC3.3   C03A7.4\n",
       "3   AC3.3   C05D2.1\n",
       "4   AC3.3   C37C3.6"
      ]
     },
     "execution_count": 4,
     "metadata": {},
     "output_type": "execute_result"
    }
   ],
   "source": [
    "dataset.head()"
   ]
  },
  {
   "cell_type": "code",
   "execution_count": 5,
   "metadata": {},
   "outputs": [
    {
     "data": {
      "text/html": [
       "<div>\n",
       "<style>\n",
       "    .dataframe thead tr:only-child th {\n",
       "        text-align: right;\n",
       "    }\n",
       "\n",
       "    .dataframe thead th {\n",
       "        text-align: left;\n",
       "    }\n",
       "\n",
       "    .dataframe tbody tr th {\n",
       "        vertical-align: top;\n",
       "    }\n",
       "</style>\n",
       "<table border=\"1\" class=\"dataframe\">\n",
       "  <thead>\n",
       "    <tr style=\"text-align: right;\">\n",
       "      <th></th>\n",
       "      <th>#IDA</th>\n",
       "      <th>IDB</th>\n",
       "    </tr>\n",
       "  </thead>\n",
       "  <tbody>\n",
       "    <tr>\n",
       "      <th>3859</th>\n",
       "      <td>ZK829.7</td>\n",
       "      <td>ZK829.7</td>\n",
       "    </tr>\n",
       "    <tr>\n",
       "      <th>3860</th>\n",
       "      <td>ZK849.2</td>\n",
       "      <td>ZK849.2</td>\n",
       "    </tr>\n",
       "    <tr>\n",
       "      <th>3861</th>\n",
       "      <td>ZK849.2</td>\n",
       "      <td>ZK938.2</td>\n",
       "    </tr>\n",
       "    <tr>\n",
       "      <th>3862</th>\n",
       "      <td>ZK858.4</td>\n",
       "      <td>ZK858.4</td>\n",
       "    </tr>\n",
       "    <tr>\n",
       "      <th>3863</th>\n",
       "      <td>ZK945.2</td>\n",
       "      <td>ZK945.2</td>\n",
       "    </tr>\n",
       "  </tbody>\n",
       "</table>\n",
       "</div>"
      ],
      "text/plain": [
       "         #IDA      IDB\n",
       "3859  ZK829.7  ZK829.7\n",
       "3860  ZK849.2  ZK849.2\n",
       "3861  ZK849.2  ZK938.2\n",
       "3862  ZK858.4  ZK858.4\n",
       "3863  ZK945.2  ZK945.2"
      ]
     },
     "execution_count": 5,
     "metadata": {},
     "output_type": "execute_result"
    }
   ],
   "source": [
    "dataset.tail()"
   ]
  },
  {
   "cell_type": "code",
   "execution_count": 6,
   "metadata": {
    "collapsed": true
   },
   "outputs": [],
   "source": [
    "graph = nx.from_pandas_dataframe(dataset, '#IDA', 'IDB')"
   ]
  },
  {
   "cell_type": "code",
   "execution_count": 7,
   "metadata": {},
   "outputs": [
    {
     "data": {
      "text/plain": [
       "2528"
      ]
     },
     "execution_count": 7,
     "metadata": {},
     "output_type": "execute_result"
    }
   ],
   "source": [
    "graph.number_of_nodes()"
   ]
  },
  {
   "cell_type": "code",
   "execution_count": 8,
   "metadata": {},
   "outputs": [
    {
     "data": {
      "text/plain": [
       "3864"
      ]
     },
     "execution_count": 8,
     "metadata": {},
     "output_type": "execute_result"
    }
   ],
   "source": [
    "graph.number_of_edges()"
   ]
  },
  {
   "cell_type": "code",
   "execution_count": 9,
   "metadata": {
    "collapsed": true
   },
   "outputs": [],
   "source": [
    "# Remove self-loops, k-core cannot be calculated without them removed\n",
    "graph.remove_edges_from(graph.selfloop_edges())"
   ]
  },
  {
   "cell_type": "code",
   "execution_count": 10,
   "metadata": {},
   "outputs": [
    {
     "data": {
      "text/plain": [
       "2528"
      ]
     },
     "execution_count": 10,
     "metadata": {},
     "output_type": "execute_result"
    }
   ],
   "source": [
    "graph.number_of_nodes()"
   ]
  },
  {
   "cell_type": "code",
   "execution_count": 11,
   "metadata": {},
   "outputs": [
    {
     "data": {
      "text/plain": [
       "3706"
      ]
     },
     "execution_count": 11,
     "metadata": {},
     "output_type": "execute_result"
    }
   ],
   "source": [
    "graph.number_of_edges()"
   ]
  },
  {
   "cell_type": "markdown",
   "metadata": {},
   "source": [
    "B) Below are the NetworkX functions that generated the centrality metrics. The alpha parameters I used for Katz were: 0.1, 0.2, 0.01, 0.001, 0.4"
   ]
  },
  {
   "cell_type": "code",
   "execution_count": 12,
   "metadata": {
    "collapsed": true
   },
   "outputs": [],
   "source": [
    "degree = nx.degree_centrality(graph)\n",
    "#The graph is unweighted, so the following calculations of 'in' or 'out' degrees do not work\n",
    "#nx.in_degree_centrality(graph)\n",
    "#nx.out_degree_centrality(graph)\n",
    "closeness = nx.closeness_centrality(graph)\n",
    "harmonic = nx.harmonic_centrality(graph)\n",
    "betweenness = nx.betweenness_centrality(graph)\n",
    "eigenvector = nx.eigenvector_centrality(graph)\n",
    "# Numpy version of katz_centrality did not have max_iteration parameter that caused problems if not chosen carefully\n",
    "katz_01 = nx.katz_centrality_numpy(graph, alpha=0.1)\n",
    "katz_02 = nx.katz_centrality_numpy(graph, alpha=0.2)\n",
    "katz_001 = nx.katz_centrality_numpy(graph, alpha=0.01)\n",
    "katz_0001 = nx.katz_centrality_numpy(graph, alpha=0.001)\n",
    "katz_04 = nx.katz_centrality_numpy(graph, alpha=0.4)\n",
    "pagerank = nx.pagerank_numpy(graph, alpha=0.85)"
   ]
  },
  {
   "cell_type": "code",
   "execution_count": 13,
   "metadata": {
    "collapsed": true
   },
   "outputs": [],
   "source": [
    "centrality_metrics = {'Degree': degree, \n",
    "                      'Closeness': closeness, \n",
    "                      'Harmonic': harmonic, \n",
    "                      'Betweenness': betweenness, \n",
    "                      'Eigenvector': eigenvector, \n",
    "                      'Katz alpha=0.1': katz_01, \n",
    "                      'Katz alpha=0.1': katz_02, \n",
    "                      'Katz alpha=0.01': katz_001, \n",
    "                      'Katz alpha=0.001': katz_0001, \n",
    "                      'Katz alpha=0.4': katz_04, \n",
    "                      'Pagerank': pagerank}"
   ]
  },
  {
   "cell_type": "markdown",
   "metadata": {},
   "source": [
    "C) Below are the nodes with the 5 highest scores for each centrality metric."
   ]
  },
  {
   "cell_type": "code",
   "execution_count": 14,
   "metadata": {},
   "outputs": [
    {
     "name": "stdout",
     "output_type": "stream",
     "text": [
      "Degree\n",
      "1 \t R05F9.10 \t 0.03917688959240206\n",
      "2 \t T17H7.4 \t 0.02928373565492679\n",
      "3 \t T11B7.4 \t 0.02849228333992877\n",
      "4 \t T04H1.2 \t 0.02690937870993273\n",
      "5 \t K09B11.9 \t 0.024930747922437674\n",
      "\n",
      "\n",
      "Closeness\n",
      "1 \t T17H7.4 \t 0.25277383803636005\n",
      "2 \t F14F3.1 \t 0.24703849792540122\n",
      "3 \t K09B11.9 \t 0.24566066880780485\n",
      "4 \t T11B7.4 \t 0.2455672853807365\n",
      "5 \t W05H7.4 \t 0.2452875605904028\n",
      "\n",
      "\n",
      "Harmonic\n",
      "1 \t T17H7.4 \t 735.3273809523757\n",
      "2 \t K09B11.9 \t 712.6968253968233\n",
      "3 \t T11B7.4 \t 711.3535714285715\n",
      "4 \t F14F3.1 \t 703.3714285714277\n",
      "5 \t ZK849.2 \t 702.527380952383\n",
      "\n",
      "\n",
      "Betweenness\n",
      "1 \t R05F9.10 \t 0.06642796999808961\n",
      "2 \t T17H7.4 \t 0.06232863236435431\n",
      "3 \t T04H1.2 \t 0.061452497140486534\n",
      "4 \t W02G9.2 \t 0.05979758949660616\n",
      "5 \t ZK849.2 \t 0.05925303225666527\n",
      "\n",
      "\n",
      "Eigenvector\n",
      "1 \t T17H7.4 \t 0.282982913154414\n",
      "2 \t K09B11.9 \t 0.2679308396039128\n",
      "3 \t T11B7.4 \t 0.2644400128976901\n",
      "4 \t F14F3.1 \t 0.17925777180247296\n",
      "5 \t W05H7.4 \t 0.17902268637792104\n",
      "\n",
      "\n",
      "Katz alpha=0.1\n",
      "1 \t W09C2.1 \t 0.372864648115799\n",
      "2 \t ZK1053.5 \t 0.1530768047463734\n",
      "3 \t M04G12.1 \t 0.14354337547384113\n",
      "4 \t C47G2.2 \t 0.09303740584651284\n",
      "5 \t T28A11.11 \t 0.08818569110732333\n",
      "\n",
      "\n",
      "Katz alpha=0.01\n",
      "1 \t R05F9.10 \t 0.03894997630910324\n",
      "2 \t T17H7.4 \t 0.03490889493555333\n",
      "3 \t T11B7.4 \t 0.03425478256076898\n",
      "4 \t T04H1.2 \t 0.033292708426794076\n",
      "5 \t K09B11.9 \t 0.03267247444477457\n",
      "\n",
      "\n",
      "Katz alpha=0.001\n",
      "1 \t R05F9.10 \t 0.02179813033652241\n",
      "2 \t T17H7.4 \t 0.021309829284867826\n",
      "3 \t T11B7.4 \t 0.021267468212742786\n",
      "4 \t T04H1.2 \t 0.021186671880009625\n",
      "5 \t K09B11.9 \t 0.021090613554937552\n",
      "\n",
      "\n",
      "Katz alpha=0.4\n",
      "1 \t C45G9.7 \t 0.15475355606047345\n",
      "2 \t F35G2.2 \t 0.10382252057988557\n",
      "3 \t T08G5.5 \t 0.1007606078255713\n",
      "4 \t F38A6.1 \t 0.10048560934388334\n",
      "5 \t K08F8.2 \t 0.10041202435590722\n",
      "\n",
      "\n",
      "Pagerank\n",
      "1 \t R05F9.10 \t 0.013611198823769256\n",
      "2 \t Y40B10A.2 \t 0.007559704049684905\n",
      "3 \t T11B7.4 \t 0.006897137033939696\n",
      "4 \t T04H1.2 \t 0.006822929910931026\n",
      "5 \t T17H7.4 \t 0.006755427172061979\n",
      "\n",
      "\n"
     ]
    }
   ],
   "source": [
    "for metric_name in centrality_metrics:\n",
    "    print(metric_name)\n",
    "    metric = centrality_metrics[metric_name]\n",
    "    top5 = {key: metric[key] for key in sorted(metric, key=metric.get, reverse=True)[:5]}\n",
    "    rank = 1\n",
    "    for key in sorted(top5, key=metric.get, reverse=True):\n",
    "        print(rank, \"\\t\",  key, \"\\t\", top5[key])\n",
    "        rank+=1\n",
    "    print(\"\\n\")"
   ]
  },
  {
   "cell_type": "markdown",
   "metadata": {},
   "source": [
    "D) Comparison of the Kendall rank correlation coefficient (tau) between all 11 centrality metrics analyzed. The centrality metrics with the highest Tau's were between closeness, harmonic, and eigenvector, all had a Tau of over 0.9. This makes sense because eigenvector centrality is high when the degrees of a nodes neighbors are high; harmonic centrality is high when a node has a lot of neighbors, and those nieghbors have a lot of neighbors, and closeness centrality is high for a node when it can reach anyother node over the shortest paths. All three of these centrality metrics have similar definitions and so they will rank nodes similarly. Katz centrality metrics with alpha parameters of 0.01 and 0.001 had the highest tau; this can be easily be explained since all the edges in the graph for a particular node would score similarly, and therefore would be similar between theses two centrality metrics.\n",
    "\n",
    "The lowest correlation was between harmonic and katz with an alpha parameter of 0.01; the guessing I did of choosing the alpha parameter really had messed with the centrality metrics and this particular metric probably did a very poor job of ranking nodes by importance. "
   ]
  },
  {
   "cell_type": "code",
   "execution_count": 15,
   "metadata": {
    "scrolled": false
   },
   "outputs": [
    {
     "name": "stdout",
     "output_type": "stream",
     "text": [
      "Degree - Closeness\n",
      "tau: 0.449946078409\n",
      "\n",
      "\n",
      "Degree - Harmonic\n",
      "tau: 0.452605858609\n",
      "\n",
      "\n",
      "Degree - Betweenness\n",
      "tau: 0.883800191159\n",
      "\n",
      "\n",
      "Degree - Eigenvector\n",
      "tau: 0.41883944141\n",
      "\n",
      "\n",
      "Degree - Katz alpha=0.1\n",
      "tau: 0.0265427674887\n",
      "\n",
      "\n",
      "Degree - Katz alpha=0.01\n",
      "tau: 0.80996242635\n",
      "\n",
      "\n",
      "Degree - Katz alpha=0.001\n",
      "tau: 0.814195258478\n",
      "\n",
      "\n",
      "Degree - Katz alpha=0.4\n",
      "tau: 0.0127900122072\n",
      "\n",
      "\n",
      "Closeness - Harmonic\n",
      "tau: 0.979776972576\n",
      "\n",
      "\n",
      "Closeness - Betweenness\n",
      "tau: 0.40784417932\n",
      "\n",
      "\n",
      "Closeness - Eigenvector\n",
      "tau: 0.912511597026\n",
      "\n",
      "\n",
      "Closeness - Katz alpha=0.1\n",
      "tau: -0.156359374957\n",
      "\n",
      "\n",
      "Closeness - Katz alpha=0.01\n",
      "tau: 0.619003736749\n",
      "\n",
      "\n",
      "Closeness - Katz alpha=0.001\n",
      "tau: 0.612342235494\n",
      "\n",
      "\n",
      "Closeness - Katz alpha=0.4\n",
      "tau: -0.0314113082004\n",
      "\n",
      "\n",
      "Harmonic - Betweenness\n",
      "tau: 0.410341990616\n",
      "\n",
      "\n",
      "Harmonic - Eigenvector\n",
      "tau: 0.915541094857\n",
      "\n",
      "\n",
      "Harmonic - Katz alpha=0.1\n",
      "tau: -0.157755165286\n",
      "\n",
      "\n",
      "Harmonic - Katz alpha=0.01\n",
      "tau: 0.628545806028\n",
      "\n",
      "\n",
      "Harmonic - Katz alpha=0.001\n",
      "tau: 0.621817809638\n",
      "\n",
      "\n",
      "Harmonic - Katz alpha=0.4\n",
      "tau: -0.0340615274689\n",
      "\n",
      "\n",
      "Betweenness - Eigenvector\n",
      "tau: 0.375260978408\n",
      "\n",
      "\n",
      "Betweenness - Katz alpha=0.1\n",
      "tau: 0.0248599140178\n",
      "\n",
      "\n",
      "Betweenness - Katz alpha=0.01\n",
      "tau: 0.71712574218\n",
      "\n",
      "\n",
      "Betweenness - Katz alpha=0.001\n",
      "tau: 0.719072482537\n",
      "\n",
      "\n",
      "Betweenness - Katz alpha=0.4\n",
      "tau: 0.0136941730486\n",
      "\n",
      "\n",
      "Eigenvector - Katz alpha=0.1\n",
      "tau: -0.154670775861\n",
      "\n",
      "\n",
      "Eigenvector - Katz alpha=0.01\n",
      "tau: 0.588784702304\n",
      "\n",
      "\n",
      "Eigenvector - Katz alpha=0.001\n",
      "tau: 0.582102375466\n",
      "\n",
      "\n",
      "Eigenvector - Katz alpha=0.4\n",
      "tau: -0.0321186594312\n",
      "\n",
      "\n",
      "Katz alpha=0.1 - Katz alpha=0.01\n",
      "tau: -0.0389097881557\n",
      "\n",
      "\n",
      "Katz alpha=0.1 - Katz alpha=0.001\n",
      "tau: -0.0364314188578\n",
      "\n",
      "\n",
      "Katz alpha=0.1 - Katz alpha=0.4\n",
      "tau: 0.0348347571789\n",
      "\n",
      "\n",
      "Katz alpha=0.01 - Katz alpha=0.001\n",
      "tau: 0.990901420886\n",
      "\n",
      "\n",
      "Katz alpha=0.01 - Katz alpha=0.4\n",
      "tau: -0.0171007776557\n",
      "\n",
      "\n",
      "Katz alpha=0.001 - Katz alpha=0.4\n",
      "tau: -0.0166715786499\n",
      "\n",
      "\n"
     ]
    }
   ],
   "source": [
    "for i in range(9):\n",
    "    for j in range(i+1,9):\n",
    "        print(list(centrality_metrics.keys())[i], \"-\", list(centrality_metrics.keys())[j])\n",
    "        x1 = list(list(centrality_metrics.values())[i].values())\n",
    "        x2 = list(list(centrality_metrics.values())[j].values())\n",
    "        tau, p_value = stats.kendalltau(x1, x2)\n",
    "        print(\"tau:\", tau)\n",
    "        print(\"\\n\")"
   ]
  },
  {
   "cell_type": "code",
   "execution_count": 16,
   "metadata": {
    "collapsed": true
   },
   "outputs": [],
   "source": [
    "x_axis = list(range(1,7))\n",
    "y_axis = []\n",
    "for i in range(1,7):\n",
    "    y_axis.append(nx.density(nx.k_core(graph, k=i)))"
   ]
  },
  {
   "cell_type": "markdown",
   "metadata": {},
   "source": [
    "E) The nodes that are in the 5-core component, the largest component have low metrics in all the centrality metrics except for harmonic centrality. The nodes with the 5 highest ranks by that centrality scored aboce 55, which is crazy."
   ]
  },
  {
   "cell_type": "code",
   "execution_count": 17,
   "metadata": {},
   "outputs": [
    {
     "data": {
      "image/png": "[encoded data removed]",
      "text/plain": [
       "<matplotlib.figure.Figure at 0x2806d0217b8>"
      ]
     },
     "metadata": {},
     "output_type": "display_data"
    }
   ],
   "source": [
    "plt.plot(x_axis, y_axis)\n",
    "plt.xlabel('Degree (k)')\n",
    "plt.ylabel('Density')\n",
    "plt.title('Graph Density of Largest k-core Component vs. Degree')\n",
    "plt.grid(True)\n",
    "plt.show()"
   ]
  },
  {
   "cell_type": "code",
   "execution_count": 18,
   "metadata": {
    "collapsed": true
   },
   "outputs": [],
   "source": [
    "five_component = nx.k_core(graph, k=5)"
   ]
  },
  {
   "cell_type": "code",
   "execution_count": 19,
   "metadata": {
    "collapsed": true
   },
   "outputs": [],
   "source": [
    "degree = nx.degree_centrality(five_component)\n",
    "closeness = nx.closeness_centrality(five_component)\n",
    "harmonic = nx.harmonic_centrality(five_component)\n",
    "betweenness = nx.betweenness_centrality(five_component)\n",
    "eigenvector = nx.eigenvector_centrality(five_component)\n",
    "katz_01 = nx.katz_centrality_numpy(five_component, alpha=0.1)\n",
    "katz_02 = nx.katz_centrality_numpy(five_component, alpha=0.2)\n",
    "katz_001 = nx.katz_centrality_numpy(five_component, alpha=0.01)\n",
    "katz_0001 = nx.katz_centrality_numpy(five_component, alpha=0.001)\n",
    "katz_04 = nx.katz_centrality_numpy(five_component, alpha=0.4)\n",
    "pagerank = nx.pagerank_numpy(five_component, alpha=0.85)"
   ]
  },
  {
   "cell_type": "code",
   "execution_count": 20,
   "metadata": {
    "collapsed": true
   },
   "outputs": [],
   "source": [
    "centrality_metrics = {'Degree': degree, \n",
    "                      'Closeness': closeness, \n",
    "                      'Harmonic': harmonic, \n",
    "                      'Betweenness': betweenness, \n",
    "                      'Eigenvector': eigenvector, \n",
    "                      'Katz alpha=0.1': katz_01, \n",
    "                      'Katz alpha=0.1': katz_02, \n",
    "                      'Katz alpha=0.01': katz_001, \n",
    "                      'Katz alpha=0.001': katz_0001, \n",
    "                      'Katz alpha=0.4': katz_04, \n",
    "                      'Pagerank': pagerank}"
   ]
  },
  {
   "cell_type": "code",
   "execution_count": 21,
   "metadata": {},
   "outputs": [
    {
     "name": "stdout",
     "output_type": "stream",
     "text": [
      "Degree\n",
      "1 \t K09B11.9 \t 0.24074074074074073\n",
      "2 \t T17H7.4 \t 0.19444444444444442\n",
      "3 \t F14F3.1 \t 0.18518518518518517\n",
      "4 \t ZK121.2 \t 0.17592592592592593\n",
      "5 \t T11B7.4 \t 0.16666666666666666\n",
      "\n",
      "\n",
      "Closeness\n",
      "1 \t K09B11.9 \t 0.5046728971962616\n",
      "2 \t F14F3.1 \t 0.4864864864864865\n",
      "3 \t T17H7.4 \t 0.4778761061946903\n",
      "4 \t ZK121.2 \t 0.47577092511013214\n",
      "5 \t T11B7.4 \t 0.4675324675324675\n",
      "\n",
      "\n",
      "Harmonic\n",
      "1 \t K09B11.9 \t 63.00000000000006\n",
      "2 \t F14F3.1 \t 59.66666666666673\n",
      "3 \t T17H7.4 \t 59.416666666666735\n",
      "4 \t ZK121.2 \t 58.66666666666673\n",
      "5 \t T11B7.4 \t 57.50000000000008\n",
      "\n",
      "\n",
      "Betweenness\n",
      "1 \t K09B11.9 \t 0.10875526983230903\n",
      "2 \t F14F3.1 \t 0.08677546399658279\n",
      "3 \t T17H7.4 \t 0.07544623639851308\n",
      "4 \t T04H1.2 \t 0.06479263186428481\n",
      "5 \t ZK849.2 \t 0.059716112104435275\n",
      "\n",
      "\n",
      "Eigenvector\n",
      "1 \t K09B11.9 \t 0.29583954510987864\n",
      "2 \t W05H7.4 \t 0.2438907221730043\n",
      "3 \t ZK121.2 \t 0.23352419179098816\n",
      "4 \t T17H7.4 \t 0.22570297725368121\n",
      "5 \t F14F3.1 \t 0.22357805661960395\n",
      "\n",
      "\n",
      "Katz alpha=0.1\n",
      "1 \t C06A5.9 \t 0.25997417136429135\n",
      "2 \t F27C1.6 \t 0.1743611197580395\n",
      "3 \t H06I04.1 \t 0.16673645386365288\n",
      "4 \t F01G10.2 \t 0.1659090049165122\n",
      "5 \t R02F2.5 \t 0.16207597132583587\n",
      "\n",
      "\n",
      "Katz alpha=0.01\n",
      "1 \t K09B11.9 \t 0.11303571931063659\n",
      "2 \t T17H7.4 \t 0.10824089521920223\n",
      "3 \t F14F3.1 \t 0.10738490379277811\n",
      "4 \t ZK121.2 \t 0.10650408405118213\n",
      "5 \t T11B7.4 \t 0.10538366663169679\n",
      "\n",
      "\n",
      "Katz alpha=0.001\n",
      "1 \t K09B11.9 \t 0.0975065565181868\n",
      "2 \t T17H7.4 \t 0.09702780961555434\n",
      "3 \t F14F3.1 \t 0.09693299162105348\n",
      "4 \t ZK121.2 \t 0.09683797486056203\n",
      "5 \t T11B7.4 \t 0.09674039248389046\n",
      "\n",
      "\n",
      "Katz alpha=0.4\n",
      "1 \t R05F9.10 \t 0.24139311518919715\n",
      "2 \t B0507.1 \t 0.22041493011799637\n",
      "3 \t F43G9.11 \t 0.21790454513107282\n",
      "4 \t F38A6.1 \t 0.18382407122124933\n",
      "5 \t F32B4.4 \t 0.17907670471405848\n",
      "\n",
      "\n",
      "Pagerank\n",
      "1 \t K09B11.9 \t 0.02661033878863133\n",
      "2 \t T17H7.4 \t 0.02191465413535914\n",
      "3 \t F14F3.1 \t 0.02060371518605548\n",
      "4 \t ZK121.2 \t 0.019477268787831955\n",
      "5 \t T11B7.4 \t 0.018504070155469544\n",
      "\n",
      "\n"
     ]
    }
   ],
   "source": [
    "for metric_name in centrality_metrics:\n",
    "    print(metric_name)\n",
    "    metric = centrality_metrics[metric_name]\n",
    "    top5 = {key: metric[key] for key in sorted(metric, key=metric.get, reverse=True)[:5]}\n",
    "    rank = 1\n",
    "    for key in sorted(top5, key=metric.get, reverse=True):\n",
    "        print(rank, \"\\t\",  key, \"\\t\", top5[key])\n",
    "        rank+=1\n",
    "    print(\"\\n\")"
   ]
  }
 ],
 "metadata": {
  "kernelspec": {
   "display_name": "Python 3",
   "language": "python",
   "name": "python3"
  },
  "language_info": {
   "codemirror_mode": {
    "name": "ipython",
    "version": 3
   },
   "file_extension": ".py",
   "mimetype": "text/x-python",
   "name": "python",
   "nbconvert_exporter": "python",
   "pygments_lexer": "ipython3",
   "version": "3.6.3"
  }
 },
 "nbformat": 4,
 "nbformat_minor": 2
}
