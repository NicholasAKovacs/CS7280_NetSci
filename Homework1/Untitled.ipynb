{
 "cells": [
  {
   "cell_type": "code",
   "execution_count": 5,
   "metadata": {
    "collapsed": true
   },
   "outputs": [],
   "source": [
    "adj_list = [['a','b'], ['a','d'], ['b','a'], ['b','c'], ['b','d'], ['c','b'], ['d','a'], ['d','b']]"
   ]
  },
  {
   "cell_type": "code",
   "execution_count": 12,
   "metadata": {},
   "outputs": [
    {
     "name": "stdout",
     "output_type": "stream",
     "text": [
      "a b\n",
      "a d\n",
      "b a\n",
      "b c\n",
      "b d\n",
      "c b\n",
      "d a\n",
      "d b\n"
     ]
    }
   ],
   "source": [
    "paths = []\n",
    "num_edges = len(adj_list)\n",
    "for edge_index in range(num_edges):\n",
    "    edge = adj_list[edge_index]\n",
    "    node1 = edge[0]\n",
    "    node2 = edge[1]\n",
    "    while visted_edge <= num_edges:\n",
    "        "
   ]
  }
 ],
 "metadata": {
  "kernelspec": {
   "display_name": "Python 3",
   "language": "python",
   "name": "python3"
  },
  "language_info": {
   "codemirror_mode": {
    "name": "ipython",
    "version": 3
   },
   "file_extension": ".py",
   "mimetype": "text/x-python",
   "name": "python",
   "nbconvert_exporter": "python",
   "pygments_lexer": "ipython3",
   "version": "3.6.1"
  }
 },
 "nbformat": 4,
 "nbformat_minor": 2
}
